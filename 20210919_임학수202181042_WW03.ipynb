{
 "cells": [
  {
   "cell_type": "markdown",
   "id": "b391101a",
   "metadata": {},
   "source": [
    "### Example\n",
    "Analog averager : <br>\n",
    "$$ y(t) = \\frac {1}{T} \\int_{t}^{t-T} x(\\tau) d \\tau \\quad input \\; x(t) $$ <br>\n",
    "accumulation of values of $ x(t) $ in a segment $ [ t - T , t]$ divided by $ T == $ <br>\n",
    "of $ x(t) $ in $[t-T,t]$ <br>\n",
    "Find response to ramp"
   ]
  },
  {
   "cell_type": "markdown",
   "id": "a7799141",
   "metadata": {},
   "source": [
    "$$ \\int_{0}^{+\\infty} h (t - \\tau) u(\\tau) d\\tau$$ <br><br>\n",
    "$$ 0 < t-\\tau <T \\quad t-T < \\tau < t $$<br><br>\n",
    "$$ \\Rightarrow \\int_{max(0, t-T)}^{t} h (t - \\tau) u(\\tau) d\\tau = \\int_{max(0, t-T)}^{t} \\frac{1}{T} \\tau  d\\tau$$ <br><br>\n",
    "$$ 1) \\; t>T \\quad \\int_{t-T}^{t} \\frac{1}{T} \\tau d\\tau = 1 $$ <br>\n",
    "$$ 2) \\; 0 < t \\leq T \\quad \\frac{t}{T}$$ <br>\n",
    "$$ 3) \\; t \\leq \\quad 0$$"
   ]
  },
  {
   "cell_type": "code",
   "execution_count": 15,
   "id": "0a00d97e",
   "metadata": {},
   "outputs": [],
   "source": [
    "import numpy as np\n",
    "import matplotlib\n",
    "import matplotlib.pyplot as plt\n",
    "%matplotlib inline"
   ]
  },
  {
   "cell_type": "code",
   "execution_count": 20,
   "id": "443fc559",
   "metadata": {},
   "outputs": [],
   "source": [
    "T = 3\n",
    "t = np.linspace(-5, 5, 1000)"
   ]
  },
  {
   "cell_type": "code",
   "execution_count": 25,
   "id": "3211e330",
   "metadata": {},
   "outputs": [],
   "source": [
    "def h(t):\n",
    "    return 1./T * (np.heaviside(t, 0) - np.heaviside(t-T, 0))\n",
    "def y1(t):\n",
    "    return t/T * (np.heaviside(t, 0) - np.heaviside(t-T, 0)) + 1 * np.heaviside(t-T, 0)\n",
    "def y2(t):\n",
    "    return t**2 / 2 /T * (np.heaviside(t, 0) - np.heaviside(t-T, 0)) + (t - T/2) * np.heaviside(t-T, 0)"
   ]
  },
  {
   "cell_type": "code",
   "execution_count": 27,
   "id": "bb0cdecc",
   "metadata": {},
   "outputs": [
    {
     "data": {
      "text/plain": [
       "<matplotlib.legend.Legend at 0x1f8e2f479a0>"
      ]
     },
     "execution_count": 27,
     "metadata": {},
     "output_type": "execute_result"
    },
    {
     "data": {
      "image/png": "[encoded data removed]",
      "text/plain": [
       "<Figure size 864x432 with 1 Axes>"
      ]
     },
     "metadata": {
      "needs_background": "light"
     },
     "output_type": "display_data"
    }
   ],
   "source": [
    "plt.figure(figsize = (12, 6))\n",
    "plt.plot(t,h(t), label = 'impulse response')\n",
    "plt.plot(t,y1(t), label = 'stop response')\n",
    "plt.plot(t,y2(t), label = 'ramp response')\n",
    "plt.legend()"
   ]
  },
  {
   "cell_type": "markdown",
   "id": "58a6e107",
   "metadata": {},
   "source": [
    "$ 1) \\; t>T \\quad\\quad = \\frac {1}{T} \\int_{t-T}^{t} \\tau d\\tau = \\frac {1}{2T} (t^2 - {(t-T)}^{2}) = t - \\frac{T}{2} $ <br>\n",
    "$ 2) \\; 0 < t \\leq T \\quad = \\frac{1}{T} \\int_{0}^{t} \\tau d\\tau = \\frac {{t^2}}{2T}$ <br>\n",
    "$ 3) \\; t \\leq 0 \\quad\\quad =0 $"
   ]
  },
  {
   "cell_type": "markdown",
   "id": "a96463c5",
   "metadata": {},
   "source": [
    "### Example\n",
    "Find convolution : <br>\n",
    "${y}_{T}(t)$ od pulse $x(t) = u(t) - u(t - T_0) $ with <br>\n",
    "$$ y{\\delta}_{T}(t) = \\sum_{k=-\\infty}^{\\infty} \\delta(t-kT)$$ <br>\n",
    "$ T = {T}_{0} $ and $ T = 2{T}_{0} $, plot corresponding ${y}_{T}(t)$ "
   ]
  },
  {
   "cell_type": "markdown",
   "id": "671cfb09",
   "metadata": {},
   "source": [
    "---\n",
    "$ y_T (t) = x(t) \\star (\\delta_T (t))$ <br><br>\n",
    "$ \\quad \\quad = x(t) \\star ( \\sum \\delta (t-kT) $<br><br>\n",
    "$ \\quad \\quad = \\sum x(t-kT) $"
   ]
  },
  {
   "cell_type": "markdown",
   "id": "a863f79e",
   "metadata": {},
   "source": [
    "### Inerconnection of systems"
   ]
  },
  {
   "cell_type": "markdown",
   "id": "6b01408d",
   "metadata": {},
   "source": [
    "![01](img/210918/1.png)"
   ]
  },
  {
   "cell_type": "markdown",
   "id": "160221d0",
   "metadata": {},
   "source": [
    "![02](img/210918/2.png)"
   ]
  },
  {
   "cell_type": "markdown",
   "id": "24c55e68",
   "metadata": {},
   "source": [
    "![03](img/210918/3.png)"
   ]
  },
  {
   "cell_type": "markdown",
   "id": "5ceced10",
   "metadata": {},
   "source": [
    "### Example\n",
    "For block diagram whith onput $u(t)$. <br>\n",
    "![04](img/210918/4.png)<br>\n",
    "Determine what the system is doing as we let the delay $\\triangle \\rightarrow 0 $"
   ]
  },
  {
   "cell_type": "markdown",
   "id": "e62ce924",
   "metadata": {},
   "source": [
    "$ x(t) = \\frac{1}{\\triangle} (u(t)-u(t-\\triangle) $ <br><br>\n",
    "$ y(t) = \\frac{1}{T} \\int_{t-T}^{t} x(\\tau)d \\tau $ <br><br>\n",
    "$ x(t) \\rightarrow \\delta(t) $ <br><br>\n",
    "$ \\therefore h(t) = \\frac {1}{T} (u(t) - u(t-T))$<br><br>\n",
    "$ \\;or \\quad= \\begin{cases} \\frac{1}{T} & 0 \\leq t < T\\\\0 & otherwise\\end{cases} $"
   ]
  },
  {
   "cell_type": "markdown",
   "id": "b4052dc4",
   "metadata": {},
   "source": [
    "### Causality\n",
    "$ x(t) = 0 $ 초기 조건이 없으면 $y(t) = 0$  future input에 영향을 받지 않는다. <br>\n",
    "$y(t) = \\int_{-\\infty}{+\\infty} x(\\tau)h(t-\\tau)d\\tau$ <br>"
   ]
  },
  {
   "cell_type": "markdown",
   "id": "2af47009",
   "metadata": {},
   "source": [
    "![05](img/210918/5.png)"
   ]
  },
  {
   "cell_type": "markdown",
   "id": "01968fac",
   "metadata": {},
   "source": [
    "$ y(t) = \\int_{-\\infty}^{+\\infty} x(\\tau) h (t - \\tau) d \\tau $ \n",
    "\n",
    "LTI system이 Causal하다는 것은 y(t)는 과거의 선형 결합으로 표시가 되고 <br>\n",
    "$ h(t) = o \\quad \\quad for \\; t<0 $"
   ]
  },
  {
   "cell_type": "markdown",
   "id": "8eb95751",
   "metadata": {},
   "source": [
    "Non-causal <br>\n",
    "$y(t) = \\frac{1}{2T} \\int_{t-T}^{t+T} x(\\tau)d\\tau $<br><br>\n",
    "$ \\quad  \\quad = \\frac{1}{2T} \\int_{t-T}^{t} x(\\tau)d\\tau + \\frac{1}{2T} \\int_{t}^{t+T} x(\\tau)d\\tau $<br><br>"
   ]
  },
  {
   "cell_type": "markdown",
   "id": "a76e87ab",
   "metadata": {},
   "source": [
    "$ y(t) = \\int_{-\\infty}^{+\\infty} x(\\tau) h (t - \\tau) d \\tau $ <br><br>\n",
    "Causal system에 Causal 한 입력이 들어가면 <br><br>\n",
    "$ \\Rightarrow y(t) = \\int_{0}^{t} x(\\tau) h (t - \\tau) d \\tau $ <br><br>\n"
   ]
  },
  {
   "cell_type": "markdown",
   "id": "56f51204",
   "metadata": {},
   "source": [
    "### Graphical Computation of Convolution Integral\n",
    "Graphically, the computation od the convolution integral consists in\n",
    "1. multiplying $x(t)$ (as a function of $\\tau$) by a reflected (again as function of $\\tau$) and shifted to the right t sec impulse response $h(t-\\tau)$\n",
    "2. Integrate above product from 0 to $t$ (the time at which we are computing the convolution)\n",
    "3. Change $t$ and go back to (a). If $t$ final value, stop."
   ]
  },
  {
   "cell_type": "markdown",
   "id": "b0156510",
   "metadata": {},
   "source": [
    "### Example\n",
    "Graphically find the unit-step response of an averager $y(t)$ with $ T =1 sec.$, with impulse response\n",
    "$$ h(t) = u(t) - u(t-1)$$"
   ]
  },
  {
   "cell_type": "markdown",
   "id": "77d00812",
   "metadata": {},
   "source": [
    "![06](img/210918/6.png)"
   ]
  },
  {
   "cell_type": "markdown",
   "id": "299d038d",
   "metadata": {},
   "source": [
    "$ y(t) = \\int_{-\\infty}^{+\\infty} x(\\tau) h (t - \\tau) d \\tau $"
   ]
  },
  {
   "cell_type": "markdown",
   "id": "bd34a5da",
   "metadata": {},
   "source": [
    "$ x(\\tau)$를 그리고 $ h (t - \\tau)$ 를 그려서 곱."
   ]
  },
  {
   "cell_type": "markdown",
   "id": "68e27e44",
   "metadata": {},
   "source": [
    "$h(t) = u(t) - u(t-1)$<br><br>\n",
    "$x(t) =u(t) - u(t-1)$"
   ]
  },
  {
   "cell_type": "markdown",
   "id": "840d7032",
   "metadata": {},
   "source": [
    "### BIBO Stable - Bounded-input Bounded-output\n",
    "$ y(t) = \\int_{-\\infty}^{+\\infty} x(\\tau) h (t - \\tau) d \\tau $ <br><br>\n",
    "$\\mid x(t) \\mid \\;=\\; \\mid \\int_{-\\infty}^{+\\infty} x(t-\\tau)h(\\tau)d\\tau \\mid $<br><br>\n",
    "$ \\quad \\quad  \\; \\leq \\int_{-\\infty}^{+\\infty}\\mid x(t-\\tau)\\mid \\mid h(t) \\mid d \\tau $ <br><br>\n",
    "$ \\quad \\quad \\; < M \\int_{-\\infty}^{+\\infty}\\mid h(t) \\mid d \\tau $ <br><br>\n",
    "$ \\quad \\quad \\; < + \\infty $"
   ]
  },
  {
   "cell_type": "markdown",
   "id": "658082c4",
   "metadata": {},
   "source": [
    "$ \\mid h(t) \\mid $ 가 적분이 가능하다면 BIBO stable이다."
   ]
  },
  {
   "cell_type": "markdown",
   "id": "19f5a1d6",
   "metadata": {},
   "source": [
    "### Example\n",
    "Causality and BIBO stability of an echo system (or a multi-path system) <br><br>\n",
    "$ y(t) = {{\\alpha}_{1}} x(t - {{\\tau}_{1}}) + {{\\alpha}_{2}} x(t - {{\\tau}_{2}}) $ <br><br>\n",
    "$x(t)$ input, and $ {\\alpha}_{1}, {\\tau}_{1} > 0, \\; i = 1,2,$ are attenuation factors and delays. <br>\n",
    "Thus the output is the superposition of attenuated and delayed versions of the input. <br>\n",
    "Typically, the attenuation factors are less than unity. Is this system causal and BIBO stable?"
   ]
  },
  {
   "cell_type": "markdown",
   "id": "514cb015",
   "metadata": {},
   "source": [
    "![07](img/210918/7.png)"
   ]
  },
  {
   "cell_type": "markdown",
   "id": "001a0e13",
   "metadata": {},
   "source": [
    "$h(t) = {{\\alpha}_{1}} \\delta (t - {{\\tau}_{1}}) + {{\\alpha}_{2}} \\delta(t - {{\\tau}_{2}}) $ impulse response<br><br>\n",
    "$ \\int_{-\\infty}^{+\\infty} \\mid h(\\tau) \\mid d \\tau = \\mid \\alpha_1 \\mid +\\mid \\alpha_2 \\mid < +\\infty $<br><br>\n",
    "$ \\mid x(t) \\mid < M $ 이 존재 한다면 <br><br> \n",
    "$ \\mid y(t) \\mid < \\mid \\alpha_1 \\mid M +\\mid \\alpha_2 \\mid M < \\infty $ Stable 이다."
   ]
  },
  {
   "cell_type": "markdown",
   "id": "beec93da",
   "metadata": {},
   "source": [
    "### Example\n",
    "Positive F/B system : microphone close to a set of spreakers that are putting out an amplified acoustic signal.<br><br>\n",
    "The microphone picks up $x(t)$ and $ \\beta y(t), \\mid \\beta \\mid \\geq 1$.<br><br>\n",
    "Find equation connecting $x(t)$ and $y(t)$, recusively obtain an expression for $y(t)$ in terms of past values of the input.<br><br>\n",
    "Determine if the system is BIBO stable or not, use $x(t) = u(t), \\beta = 2$ and $\\tau =1$ is donig so."
   ]
  },
  {
   "cell_type": "markdown",
   "id": "b83ad701",
   "metadata": {},
   "source": [
    "![08](img/210918/8.png)"
   ]
  },
  {
   "cell_type": "markdown",
   "id": "eef8e433",
   "metadata": {},
   "source": [
    "$ y(t) = x(t) + \\beta y (t - \\tau) $\n",
    "1) $ h(t) = \\delta(t) + \\beta \\delta (t - \\tau) + \\beta^2 \\delta (t-2\\tau) +\\beta^3 \\delta (t-3\\tau) + \\cdot\\cdot\\cdot $<br><br>\n",
    "$ \\quad  y(t) = u(t) \\star h(t) = u(t) + \\beta u(t-\\tau) + \\beta^2 u(t-2\\tau) + \\beta^3 u(t-3\\tau)+ \\cdot\\cdot\\cdot \\rightarrow +\\infty $ 발산 한다.<br><br> $ \\quad \\quad \\rightarrow $ <B>BIBO stable이 아니다.</b>"
   ]
  },
  {
   "cell_type": "markdown",
   "id": "ed4fa6fa",
   "metadata": {},
   "source": [
    "### Signal\n",
    "   - Basic Signal $ \\quad \\rightarrow \\quad e^{j \\omega t}$ and $\\ delta (t)$   <br>\n",
    "   신호는 시간에 관한 함수다."
   ]
  },
  {
   "cell_type": "markdown",
   "id": "aa262c1e",
   "metadata": {},
   "source": [
    "### System\n",
    "   - Linear\n",
    "   - Time Invariant\n",
    "   - Causal\n",
    "   - BIBO stable <br>\n",
    "   시스템은 신호가 들어가서 신호가 나온다. <br>\n",
    "   다이나믹 시스템을 다루는데 입출력의 관계가 미분방정식으로 얽혀있다.<br>\n",
    "   LTI system의 경우는 impulde response로 시스템을 설명할 수 있다."
   ]
  }
 ],
 "metadata": {
  "kernelspec": {
   "display_name": "Python 3",
   "language": "python",
   "name": "python3"
  },
  "language_info": {
   "codemirror_mode": {
    "name": "ipython",
    "version": 3
   },
   "file_extension": ".py",
   "mimetype": "text/x-python",
   "name": "python",
   "nbconvert_exporter": "python",
   "pygments_lexer": "ipython3",
   "version": "3.8.8"
  }
 },
 "nbformat": 4,
 "nbformat_minor": 5
}
